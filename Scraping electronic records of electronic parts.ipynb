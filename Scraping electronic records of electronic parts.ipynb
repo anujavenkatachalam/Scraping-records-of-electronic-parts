{
 "cells": [
  {
   "cell_type": "code",
   "execution_count": 9,
   "metadata": {},
   "outputs": [],
   "source": [
    "import pandas as pd\n",
    "from selenium import webdriver"
   ]
  },
  {
   "cell_type": "code",
   "execution_count": 19,
   "metadata": {
    "scrolled": true
   },
   "outputs": [],
   "source": [
    "driver=webdriver.Chrome(executable_path=r'C:/Users/Anuja/.wdm/drivers/chromedriver/85.0.4183.87/chromedriver.exe')\n",
    "driver.get(\"https://icsource.com/\")"
   ]
  },
  {
   "cell_type": "code",
   "execution_count": 20,
   "metadata": {},
   "outputs": [],
   "source": [
    "form=driver.find_element_by_class_name('searchbox')"
   ]
  },
  {
   "cell_type": "code",
   "execution_count": 21,
   "metadata": {},
   "outputs": [],
   "source": [
    "form.clear()"
   ]
  },
  {
   "cell_type": "code",
   "execution_count": 22,
   "metadata": {},
   "outputs": [],
   "source": [
    "# Enter filter criteria - Part ID is entered here\n",
    "form.send_keys(\"BSS83\")"
   ]
  },
  {
   "cell_type": "code",
   "execution_count": 23,
   "metadata": {},
   "outputs": [],
   "source": [
    "button=driver.find_element_by_class_name('searchbutton')"
   ]
  },
  {
   "cell_type": "code",
   "execution_count": 24,
   "metadata": {},
   "outputs": [],
   "source": [
    "button.click()"
   ]
  },
  {
   "cell_type": "code",
   "execution_count": 18,
   "metadata": {},
   "outputs": [],
   "source": [
    "driver.quit()"
   ]
  },
  {
   "cell_type": "code",
   "execution_count": 25,
   "metadata": {},
   "outputs": [],
   "source": [
    "table=driver.find_element_by_id(\"ctl00_ctl00_body_bodycontent_rgSampleSearch_ctl00\")"
   ]
  },
  {
   "cell_type": "code",
   "execution_count": 27,
   "metadata": {},
   "outputs": [],
   "source": [
    "rows=table.find_element_by_tag_name(\"tbody\").find_elements_by_tag_name(\"tr\")"
   ]
  },
  {
   "cell_type": "code",
   "execution_count": 44,
   "metadata": {},
   "outputs": [],
   "source": [
    "# Only extracts fields required\n",
    "list_df=[]\n",
    "for row in rows:\n",
    "    df={}\n",
    "    cols=row.find_elements_by_tag_name(\"td\")\n",
    "    df[\"Part_ID\"]=cols[0].text\n",
    "    df[\"MFG\"]=cols[1].text\n",
    "    df[\"Qty\"]=cols[3].text\n",
    "    list_df.append(df)    "
   ]
  },
  {
   "cell_type": "code",
   "execution_count": 47,
   "metadata": {},
   "outputs": [],
   "source": [
    "df_main=pd.DataFrame(list_df)"
   ]
  },
  {
   "cell_type": "code",
   "execution_count": 53,
   "metadata": {},
   "outputs": [],
   "source": [
    "filtered_df=df_main[df_main[\"Part_ID\"].duplicated()==False]"
   ]
  },
  {
   "cell_type": "code",
   "execution_count": 59,
   "metadata": {},
   "outputs": [],
   "source": [
    "with pd.ExcelWriter(\"parts.xlsx\") as writer:  \n",
    "    df_main.to_excel(writer, sheet_name='all_results', index=False)\n",
    "    filtered_df.to_excel(writer, sheet_name='non-duplicates', index=False)"
   ]
  },
  {
   "cell_type": "markdown",
   "metadata": {},
   "source": [
    "#### The End!"
   ]
  }
 ],
 "metadata": {
  "kernelspec": {
   "display_name": "Python 3",
   "language": "python",
   "name": "python3"
  },
  "language_info": {
   "codemirror_mode": {
    "name": "ipython",
    "version": 3
   },
   "file_extension": ".py",
   "mimetype": "text/x-python",
   "name": "python",
   "nbconvert_exporter": "python",
   "pygments_lexer": "ipython3",
   "version": "3.7.3"
  }
 },
 "nbformat": 4,
 "nbformat_minor": 2
}
